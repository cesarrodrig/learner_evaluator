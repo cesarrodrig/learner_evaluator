{
 "cells": [
  {
   "cell_type": "code",
   "execution_count": 1,
   "metadata": {},
   "outputs": [],
   "source": [
    "# %%\n",
    "# autoreload\n",
    "# %load_ext autoreload\n",
    "\n",
    "# %autoreload 2\n",
    "import math\n",
    "from pathlib import Path\n",
    "from typing import Optional\n",
    "\n",
    "import numpy as np\n",
    "import pandas as pd\n",
    "import torch\n",
    "import xgboost as xgb\n",
    "from pytorch_tabnet.pretraining import TabNetPretrainer\n",
    "from pytorch_tabnet.tab_model import TabModel, TabNetClassifier, TabNetRegressor\n",
    "from sklearn.metrics import f1_score, precision_score, recall_score, root_mean_squared_error\n",
    "from sklearn.model_selection import GridSearchCV\n",
    "from sklearn.preprocessing import LabelEncoder\n",
    "\n",
    "from app.constants import DATA_DIR, MODELS_DIR"
   ]
  },
  {
   "cell_type": "code",
   "execution_count": 2,
   "metadata": {},
   "outputs": [
    {
     "name": "stdout",
     "output_type": "stream",
     "text": [
      "Available columns: ['learner_id', 'school_id', 'class_id', 'session_id', 'play_time', 'learning_unit', 'strand', 'outcome', 'foreground_duration', 'score', 'school_type', 'gender', 'grade', 'id']\n"
     ]
    }
   ],
   "source": [
    "# %%\n",
    "activity_df = pd.read_parquet(DATA_DIR / \"learning_activity.parquet\")\n",
    "print(\"Available columns:\", list(activity_df.columns))"
   ]
  },
  {
   "cell_type": "markdown",
   "metadata": {},
   "source": [
    " We have to be careful on which features we use for training. Not all of them would be available during prediction time.\n",
    "\n",
    " For example, when we want to predict a learner's score at a given session, we won't have its `outcome` and `foreground_duration`,\n",
    "\n",
    " only past ones. For this reason, we take extra care during our feature engineering to only calculate aggregates of\n",
    "\n",
    " these columns and past scores using samples from previous activities.\n",
    "\n",
    "\n",
    "\n",
    " In production, calculating these features would be done by a pipeline job on certain schedule and saved\n",
    "\n",
    " in a feature storage. They are then retrieved during inference time."
   ]
  },
  {
   "cell_type": "code",
   "execution_count": 3,
   "metadata": {},
   "outputs": [],
   "source": [
    "# %%\n",
    "def _perform_feature_engineering(activity_df: pd.DataFrame):\n",
    "    # Add aggregates of from earlier `play_times` to each row\n",
    "    for row_index, row in activity_df.iterrows():\n",
    "        play_time = row.play_time\n",
    "        activity_df.loc[row_index, \"play_time_hour\"] = play_time.hour\n",
    "        activity_df.loc[row_index, \"play_time_weekday\"] = play_time.weekday()\n",
    "\n",
    "        # Adding learning unit-specific historical features\n",
    "        past_activity_df = activity_df[activity_df.play_time < play_time]\n",
    "        _add_agg_features_from_df(\n",
    "            activity_df=activity_df,\n",
    "            from_df=past_activity_df,\n",
    "            row_index=row_index,\n",
    "            col_prefix=\"unit_past\",\n",
    "        )\n",
    "\n",
    "        # Adding learner-specific historical features, globally, by strand, and by learning unit.\n",
    "        past_learner_activity_df = past_activity_df[past_activity_df.learner_id == row.learner_id]\n",
    "        _add_agg_features_from_df(\n",
    "            activity_df=activity_df,\n",
    "            from_df=past_learner_activity_df,\n",
    "            row_index=row_index,\n",
    "            col_prefix=\"learner_past\",\n",
    "        )\n",
    "\n",
    "        past_strand_activity_df = past_learner_activity_df[past_learner_activity_df.strand == row.strand]\n",
    "        _add_agg_features_from_df(\n",
    "            activity_df=activity_df,\n",
    "            from_df=past_strand_activity_df,\n",
    "            row_index=row_index,\n",
    "            col_prefix=\"learner_past_strand\",\n",
    "        )\n",
    "\n",
    "        past_learning_unit_activity_df = past_strand_activity_df[\n",
    "            past_strand_activity_df.learning_unit == row.learning_unit\n",
    "        ]\n",
    "        _add_agg_features_from_df(\n",
    "            activity_df=activity_df,\n",
    "            from_df=past_learning_unit_activity_df,\n",
    "            row_index=row_index,\n",
    "            col_prefix=\"learner_past_learning_unit\",\n",
    "        )\n",
    "\n",
    "\n",
    "def _add_agg_features_from_df(activity_df: pd.DataFrame, from_df: pd.DataFrame, row_index: int, col_prefix: str):\n",
    "    for agg_function in [\"mean\", \"min\", \"max\"]:\n",
    "        activity_df.loc[row_index, f\"{col_prefix}_scores_{agg_function}\"] = from_df.score.agg(agg_function)\n",
    "        activity_df.loc[row_index, f\"{col_prefix}_foreground_durations_{agg_function}\"] = (\n",
    "            from_df.foreground_duration.agg(agg_function)\n",
    "        )\n",
    "\n",
    "    for outcome in activity_df.outcome.unique():\n",
    "        is_outcome = from_df.outcome == outcome\n",
    "\n",
    "        outcome_count = is_outcome.sum()\n",
    "        col_name = f\"{col_prefix}_{outcome.lower()}_count\"\n",
    "        activity_df.loc[row_index, col_name] = outcome_count\n",
    "\n",
    "        past_outcome_rate = outcome_count / (len(is_outcome) + 1e-6)\n",
    "        col_name = f\"{col_prefix}_{outcome.lower()}_rate\"\n",
    "        activity_df.loc[row_index, col_name] = past_outcome_rate"
   ]
  },
  {
   "cell_type": "code",
   "execution_count": 4,
   "metadata": {},
   "outputs": [],
   "source": [
    "# %%\n",
    "_perform_feature_engineering(activity_df)\n",
    "\n",
    "categorical_columns = [\n",
    "    \"class_id\",\n",
    "    \"school_id\",\n",
    "    \"school_type\",\n",
    "    \"learning_unit\",\n",
    "    \"strand\",\n",
    "    \"play_time_hour\",\n",
    "    \"play_time_weekday\",\n",
    "    \"gender\",\n",
    "    \"grade\",\n",
    "]\n",
    "numerical_columns = [column for column in activity_df.columns if \"past_\" in column]"
   ]
  },
  {
   "cell_type": "markdown",
   "metadata": {},
   "source": [
    " Before doing anything else, we keep a testing set to ensure there's no data leakage.\n",
    "\n",
    " Although we took care that data leakeage doesn't occur during feature engineering,\n",
    "\n",
    " any adjustments to the data that happen during modelin should only be performed on the training set.\n",
    "\n",
    "\n",
    "\n",
    " We use `play_time` as the splitting feature to be extra careful. Testing and validation sets each contain 10% of the samples."
   ]
  },
  {
   "cell_type": "code",
   "execution_count": 5,
   "metadata": {},
   "outputs": [
    {
     "name": "stdout",
     "output_type": "stream",
     "text": [
      "Number of unseen `learner_id` in the set: 8\n",
      "Number of unseen `class_id` in the set: 1\n",
      "Number of unseen `school_id` in the set: 0\n",
      "Number of unseen `school_type` in the set: 0\n",
      "Number of unseen `learning_unit` in the set: 0\n",
      "Number of unseen `strand` in the set: 0\n",
      "Number of unseen `grade` in the set: 0\n",
      "Number of unseen `learner_id` in the set: 13\n",
      "Number of unseen `class_id` in the set: 2\n",
      "Number of unseen `school_id` in the set: 1\n",
      "Number of unseen `school_type` in the set: 0\n",
      "Number of unseen `learning_unit` in the set: 0\n",
      "Number of unseen `strand` in the set: 0\n",
      "Number of unseen `grade` in the set: 0\n"
     ]
    }
   ],
   "source": [
    "# %%\n",
    "def _split_dataset(activity_df: pd.DataFrame, test_split_datetime: pd.Timestamp, val_split_datetime: pd.Timestamp):\n",
    "    train_activity_df = activity_df[activity_df.play_time < val_split_datetime]\n",
    "    val_activity_df = activity_df[\n",
    "        (activity_df.play_time >= val_split_datetime) & (activity_df.play_time < test_split_datetime)\n",
    "    ]\n",
    "    test_activity_df = activity_df[activity_df.play_time >= test_split_datetime]\n",
    "\n",
    "    columns = [\"learner_id\", \"class_id\", \"school_id\", \"school_type\", \"learning_unit\", \"strand\", \"grade\"]\n",
    "    for df in [val_activity_df, test_activity_df]:\n",
    "        for column in columns:\n",
    "            # print the number of unseen values in the test set\n",
    "            print(f\"Number of unseen `{column}` in the set: {len(set(df[column]) - set(train_activity_df[column]))}\")\n",
    "    return train_activity_df, val_activity_df, test_activity_df\n",
    "\n",
    "\n",
    "astype_dict = {col: \"category\" for col in categorical_columns}\n",
    "activity_df = activity_df.astype(astype_dict)\n",
    "\n",
    "test_split_datetime = activity_df.play_time.quantile(0.9)\n",
    "val_split_datetime = activity_df.play_time.quantile(0.8)\n",
    "train_activity_df, val_activity_df, test_activity_df = _split_dataset(\n",
    "    activity_df, test_split_datetime, val_split_datetime\n",
    ")"
   ]
  },
  {
   "cell_type": "markdown",
   "metadata": {},
   "source": [
    " A few of the samples in the validation and testing set contain learners, classes, and schools not seen\n",
    "\n",
    " in the training set. This could cause problems because these are categorical features. XGBoost is capable\n",
    "\n",
    " of dealing with unseen categories but TabNet is not."
   ]
  },
  {
   "cell_type": "code",
   "execution_count": 6,
   "metadata": {},
   "outputs": [],
   "source": [
    "# %%\n",
    "def _prepare_datasets(\n",
    "    activity_dfs: list[pd.DataFrame],\n",
    "    categorical_columns: list[str],\n",
    "    numerical_columns: list[str],\n",
    "    label_column: str,\n",
    "):\n",
    "    feature_columns = categorical_columns + numerical_columns\n",
    "    astype_dict = {col: \"category\" for col in categorical_columns}\n",
    "    features_and_labels = []\n",
    "    for activity_df in activity_dfs:\n",
    "        feature_df = activity_df[feature_columns].astype(astype_dict)\n",
    "        labels = activity_df[label_column]\n",
    "        features_and_labels.append((feature_df, labels))\n",
    "\n",
    "    return features_and_labels\n",
    "\n",
    "\n",
    "def _run_grid_search(\n",
    "    xbg_model: xgb.XGBModel,\n",
    "    param_grid: dict,\n",
    "    train_feature_df: pd.DataFrame,\n",
    "    val_feature_df: pd.DataFrame,\n",
    "    train_labels: pd.Series,\n",
    "    val_labels: pd.Series,\n",
    "    scoring: str,\n",
    "):\n",
    "    clf = GridSearchCV(\n",
    "        xbg_model,\n",
    "        param_grid=param_grid,\n",
    "        n_jobs=8,\n",
    "        scoring=scoring,\n",
    "        return_train_score=True,\n",
    "    )\n",
    "    eval_set = [\n",
    "        (val_feature_df, val_labels),\n",
    "    ]\n",
    "    clf.fit(train_feature_df, train_labels, eval_set=eval_set, verbose=0)\n",
    "    return clf"
   ]
  },
  {
   "cell_type": "code",
   "execution_count": 7,
   "metadata": {},
   "outputs": [],
   "source": [
    "# %%\n",
    "(train_feature_df, train_labels), (val_feature_df, val_labels), (test_feature_df, test_labels) = _prepare_datasets(\n",
    "    [train_activity_df, val_activity_df, test_activity_df],\n",
    "    categorical_columns,\n",
    "    numerical_columns,\n",
    "    label_column=\"score\",\n",
    ")"
   ]
  },
  {
   "cell_type": "code",
   "execution_count": 8,
   "metadata": {},
   "outputs": [
    {
     "name": "stdout",
     "output_type": "stream",
     "text": [
      "Number of combinations: 144\n",
      "Estimated time: 4.8 minutes\n",
      "best_params: {'gamma': 0, 'learning_rate': 0.1, 'max_delta_step': 0, 'max_depth': 4, 'min_child_weight': 0, 'n_estimators': 50, 'subsample': 0.8, 'tree_method': 'hist'}\n"
     ]
    }
   ],
   "source": [
    "# %%\n",
    "regressor = xgb.XGBRegressor(enable_categorical=True, validate_parameters=True)\n",
    "param_grid = {\n",
    "    \"max_depth\": [1, 2, 4],\n",
    "    \"subsample\": [0.8],\n",
    "    \"min_child_weight\": [0, 1],\n",
    "    \"gamma\": [0, 0.2, 1, 5],\n",
    "    \"max_delta_step\": [0, 1],\n",
    "    \"n_estimators\": [50, 100, 150],\n",
    "    \"learning_rate\": [0.1],\n",
    "    \"tree_method\": [\"hist\"],\n",
    "}\n",
    "param_combinations = math.prod([len(param) for param in param_grid.values()])\n",
    "print(f\"Number of combinations: {param_combinations}\")\n",
    "print(f\"Estimated time: {param_combinations*2/60} minutes\")\n",
    "\n",
    "clf = _run_grid_search(\n",
    "    xbg_model=regressor,\n",
    "    param_grid=param_grid,\n",
    "    train_feature_df=train_feature_df,\n",
    "    val_feature_df=val_feature_df,\n",
    "    train_labels=train_labels,\n",
    "    val_labels=val_labels,\n",
    "    scoring=\"neg_root_mean_squared_error\",\n",
    ")\n",
    "print(\"best_params:\", clf.best_params_)\n",
    "regressor = clf.best_estimator_"
   ]
  },
  {
   "cell_type": "code",
   "execution_count": 9,
   "metadata": {},
   "outputs": [
    {
     "name": "stdout",
     "output_type": "stream",
     "text": [
      "Training set RMSE: 0.214\n",
      "Validation set RMSE: 0.341\n",
      "Testing set RMSE: 0.325\n"
     ]
    }
   ],
   "source": [
    "# %%\n",
    "train_pred_labels = regressor.predict(train_feature_df)\n",
    "train_rmse = root_mean_squared_error(train_labels, train_pred_labels)\n",
    "print(f\"Training set RMSE: {train_rmse:0.3f}\")\n",
    "\n",
    "val_pred_labels = regressor.predict(val_feature_df)\n",
    "val_rmse = root_mean_squared_error(val_labels, val_pred_labels)\n",
    "print(f\"Validation set RMSE: {val_rmse:0.3f}\")\n",
    "\n",
    "test_pred_labels = regressor.predict(test_feature_df)\n",
    "test_rmse = root_mean_squared_error(test_labels, test_pred_labels)\n",
    "print(f\"Testing set RMSE: {test_rmse:0.3f}\")"
   ]
  },
  {
   "cell_type": "markdown",
   "metadata": {},
   "source": [
    " It seems the model is overfitting.\n",
    "\n",
    " Using the cv_results, we can dig deeper into the correlation between the hyperparameters and the scores."
   ]
  },
  {
   "cell_type": "markdown",
   "metadata": {},
   "source": [
    " Given more time, we could go into further hyperparameter tuning but the improvement seems limited\n",
    "\n",
    " given that the lowest training RMSE is still high.\n",
    "\n",
    " With this high RMSE, we can see the model struggles to predict an accurate score for a student\n",
    "\n",
    " given its historical activity. With XGBoost, we can see the importance of each feature to the model.\n",
    "\n",
    " We look at the \"gain\" score of each feature. In practice, \"gain\" is often more informative than \"weight\"\n",
    "\n",
    " as it provides a deeper insight into how much a feature contributes to enhancing the model's predictions,\n",
    "\n",
    " making it a good choice for most  to understand how effective it is."
   ]
  },
  {
   "cell_type": "code",
   "execution_count": 10,
   "metadata": {},
   "outputs": [],
   "source": [
    "# %% Save the model for later use\n",
    "regressor_path = Path(MODELS_DIR / \"xgboost_regressor.json\")\n",
    "regressor_path.parent.mkdir(parents=True, exist_ok=True)\n",
    "regressor.save_model(regressor_path)\n",
    "df = pd.concat([train_activity_df, val_activity_df, test_activity_df])\n",
    "df.to_parquet(DATA_DIR / \"processed_learning_activity.parquet\")"
   ]
  },
  {
   "cell_type": "code",
   "execution_count": 11,
   "metadata": {},
   "outputs": [
    {
     "data": {
      "text/plain": [
       "<Axes: title={'center': 'Feature importance'}, xlabel='Feature Gain', ylabel='Features'>"
      ]
     },
     "execution_count": 11,
     "metadata": {},
     "output_type": "execute_result"
    },
    {
     "data": {
      "image/png": "[encoded data removed]",
      "text/plain": [
       "<Figure size 640x480 with 1 Axes>"
      ]
     },
     "metadata": {},
     "output_type": "display_data"
    }
   ],
   "source": [
    "# %%\n",
    "xgb.plot_importance(\n",
    "    clf.best_estimator_.get_booster(),\n",
    "    max_num_features=10,\n",
    "    importance_type=\"gain\",\n",
    "    xlabel=\"Feature Gain\",\n",
    ")"
   ]
  },
  {
   "cell_type": "markdown",
   "metadata": {},
   "source": [
    " We see that the top 3 features with most gain are not related to the learning activity. In fact, `learning_unit`\n",
    "\n",
    " has the highest gain, meaning that the learning units themselves have more influence on a student's\n",
    "\n",
    " score than the student's current skill.\n",
    "\n",
    "\n",
    "\n",
    " Are there `learning_units` where the student's past performance is more indicative of their likely score?"
   ]
  },
  {
   "cell_type": "code",
   "execution_count": 12,
   "metadata": {},
   "outputs": [
    {
     "name": "stdout",
     "output_type": "stream",
     "text": [
      "learning_unit=OneCourse:OC_PhraseSentenceType.4dd8 (n=21) RMSE: 0.200\n",
      "learning_unit=OneCourse:OC_PhraseSentenceType.5d44 (n=16) RMSE: 0.213\n",
      "learning_unit=OneCourse:OC_PhraseSentenceType.5dd1 (n=48) RMSE: 0.232\n",
      "learning_unit=OneCourse:OC_PhraseSentenceType.71cf (n=31) RMSE: 0.158\n",
      "learning_unit=OneCourse:OC_PhraseSentenceType.7864 (n=69) RMSE: 0.238\n",
      "learning_unit=OneCourse:OC_PhraseSentenceType.9b09 (n=17) RMSE: 0.244\n",
      "learning_unit=OneCourse:OC_PhraseSentenceType.df02 (n=29) RMSE: 0.312\n",
      "learning_unit=OneCourse:OC_TalkingHead.1dac (n=18) RMSE: 0.452\n",
      "learning_unit=OneCourse:OC_TalkingHead.2360 (n=21) RMSE: 0.476\n",
      "learning_unit=OneCourse:OC_TalkingHead.23de (n=25) RMSE: 0.503\n",
      "learning_unit=OneCourse:OC_TalkingHead.3dba (n=15) RMSE: 0.278\n",
      "learning_unit=OneCourse:OC_TalkingHead.5352 (n=26) RMSE: 0.349\n",
      "learning_unit=OneCourse:OC_TalkingHead.5a16 (n=12) RMSE: 0.390\n",
      "learning_unit=OneCourse:OC_TalkingHead.a5dd (n=19) RMSE: 0.476\n",
      "learning_unit=OneCourse:OC_TalkingHead.ce7e (n=13) RMSE: 0.418\n"
     ]
    }
   ],
   "source": [
    "# %%\n",
    "for learning_unit in sorted(activity_df.learning_unit.unique()):\n",
    "    lu_test_samples_index = test_feature_df[test_feature_df.learning_unit == learning_unit].index\n",
    "\n",
    "    lu_test_feature_df = test_feature_df.loc[list(lu_test_samples_index)]\n",
    "    lu_test_labels = test_labels.loc[list(lu_test_samples_index)]\n",
    "\n",
    "    test_pred_labels = regressor.predict(lu_test_feature_df)\n",
    "    test_rmse = root_mean_squared_error(lu_test_labels, test_pred_labels)\n",
    "    print(f\"learning_unit={learning_unit} (n={len(lu_test_labels)}) RMSE: {test_rmse:0.3f}\")"
   ]
  },
  {
   "cell_type": "markdown",
   "metadata": {},
   "source": [
    " We see that the RMSE for all Reading learning units are between 0.16 and 0.32,\n",
    "\n",
    " while the RMSE for all Listening learning units are between 0.26 and 0.44.\n",
    "\n",
    " The model is better at predicting Reading performance.\n",
    "\n",
    " It's worth mentioning that I've tried training two models, splitting the data by strand,\n",
    "\n",
    " but the results were similar to the combined model."
   ]
  },
  {
   "cell_type": "markdown",
   "metadata": {},
   "source": [
    " ### Using TabNet\n",
    "\n",
    " TabNet is a deep learning model that promises to choose features depending on the sample.\n",
    "\n",
    " It's a good model to use when we have a lot of features and we want to avoid overfitting."
   ]
  },
  {
   "cell_type": "markdown",
   "metadata": {},
   "source": [
    " TabNet cannot deal with unseen categories in the data. We have to make sure that the validation and testing set\n",
    "\n",
    " only contain categories that are present in the training set. Let's print the categories that don't fit this criteria.\n",
    "\n",
    " Throwing away data is not ideal given our small dataset. There are around 100 rows total from the validation and\n",
    "\n",
    " testing sets that contain unseen categories, dropping them would mean reducing each by ~15%.\n",
    "\n",
    " pick a random class_id from the training set"
   ]
  },
  {
   "cell_type": "code",
   "execution_count": 13,
   "metadata": {},
   "outputs": [],
   "source": [
    "# %%\n",
    "def _prepare_tabnet_datasets(\n",
    "    train_activity_df: pd.DataFrame,\n",
    "    val_activity_df: pd.DataFrame,\n",
    "    test_activity_df: pd.DataFrame,\n",
    "    categorical_columns: list[str],\n",
    "    numerical_columns: list[str],\n",
    "    label_column: str,\n",
    "):\n",
    "\n",
    "    (train_feature_df, train_labels), (val_feature_df, val_labels), (test_feature_df, test_labels) = _prepare_datasets(\n",
    "        [train_activity_df, val_activity_df, test_activity_df],\n",
    "        categorical_columns,\n",
    "        numerical_columns,\n",
    "        label_column=label_column,\n",
    "    )\n",
    "\n",
    "    train_feature_df = train_feature_df.copy()\n",
    "    val_feature_df = val_feature_df.copy()\n",
    "    test_feature_df = test_feature_df.copy()\n",
    "    categorical_dims = {}\n",
    "    for col in categorical_columns:\n",
    "        label_encoder = LabelEncoder()\n",
    "        # NOTE: we circumvent the issue of unseen values in the test set but\n",
    "        # there are better ways to handle this.\n",
    "        unique_values = pd.concat([train_feature_df[col], val_feature_df[col]]).unique()\n",
    "        label_encoder.fit(unique_values)\n",
    "\n",
    "        train_feature_df[col] = label_encoder.transform(train_feature_df[col].values)\n",
    "        val_feature_df[col] = label_encoder.transform(val_feature_df[col].values)\n",
    "        test_feature_df[col] = label_encoder.transform(test_feature_df[col].values)\n",
    "        categorical_dims[col] = len(label_encoder.classes_)\n",
    "\n",
    "    for col in numerical_columns:\n",
    "        # NOTE: this should be looked at, as it might not be the best way to handle missing values\n",
    "        train_feature_df = train_feature_df.fillna(-1, axis=1)\n",
    "        val_feature_df = val_feature_df.fillna(-1, axis=1)\n",
    "        test_feature_df = test_feature_df.fillna(-1, axis=1)\n",
    "\n",
    "    return (\n",
    "        (train_feature_df.values, train_labels.values),\n",
    "        (val_feature_df.values, val_labels.values),\n",
    "        (test_feature_df.values, test_labels.values),\n",
    "    )\n",
    "\n",
    "\n",
    "def _fit_tabnet(\n",
    "    tabnet_model: TabModel,\n",
    "    train_samples: np.array,\n",
    "    val_samples: np.array,\n",
    "    train_labels: np.array,\n",
    "    val_labels: np.array,\n",
    "    eval_metric: str,\n",
    "    unsupervised_model: Optional[TabNetPretrainer] = None,\n",
    "):\n",
    "    eval_set = [\n",
    "        (train_samples, train_labels),\n",
    "        (val_samples, val_labels),\n",
    "    ]\n",
    "    tabnet_model.fit(\n",
    "        train_samples,\n",
    "        train_labels,\n",
    "        eval_set=eval_set,\n",
    "        eval_name=[\"train\", \"val\"],\n",
    "        eval_metric=[eval_metric],\n",
    "        from_unsupervised=unsupervised_model,\n",
    "    )"
   ]
  },
  {
   "cell_type": "code",
   "execution_count": 14,
   "metadata": {},
   "outputs": [
    {
     "ename": "ValueError",
     "evalue": "y contains previously unseen labels: 'c211ecb9c0f161385de70ec7cb018f12'",
     "output_type": "error",
     "traceback": [
      "\u001b[0;31m---------------------------------------------------------------------------\u001b[0m",
      "\u001b[0;31mKeyError\u001b[0m                                  Traceback (most recent call last)",
      "File \u001b[0;32m/opt/miniconda3/envs/eidu/lib/python3.11/site-packages/sklearn/utils/_encode.py:225\u001b[0m, in \u001b[0;36m_encode\u001b[0;34m(values, uniques, check_unknown)\u001b[0m\n\u001b[1;32m    224\u001b[0m \u001b[38;5;28;01mtry\u001b[39;00m:\n\u001b[0;32m--> 225\u001b[0m     \u001b[38;5;28;01mreturn\u001b[39;00m \u001b[43m_map_to_integer\u001b[49m\u001b[43m(\u001b[49m\u001b[43mvalues\u001b[49m\u001b[43m,\u001b[49m\u001b[43m \u001b[49m\u001b[43muniques\u001b[49m\u001b[43m)\u001b[49m\n\u001b[1;32m    226\u001b[0m \u001b[38;5;28;01mexcept\u001b[39;00m \u001b[38;5;167;01mKeyError\u001b[39;00m \u001b[38;5;28;01mas\u001b[39;00m e:\n",
      "File \u001b[0;32m/opt/miniconda3/envs/eidu/lib/python3.11/site-packages/sklearn/utils/_encode.py:165\u001b[0m, in \u001b[0;36m_map_to_integer\u001b[0;34m(values, uniques)\u001b[0m\n\u001b[1;32m    164\u001b[0m table \u001b[38;5;241m=\u001b[39m _nandict({val: i \u001b[38;5;28;01mfor\u001b[39;00m i, val \u001b[38;5;129;01min\u001b[39;00m \u001b[38;5;28menumerate\u001b[39m(uniques)})\n\u001b[0;32m--> 165\u001b[0m \u001b[38;5;28;01mreturn\u001b[39;00m np\u001b[38;5;241m.\u001b[39marray(\u001b[43m[\u001b[49m\u001b[43mtable\u001b[49m\u001b[43m[\u001b[49m\u001b[43mv\u001b[49m\u001b[43m]\u001b[49m\u001b[43m \u001b[49m\u001b[38;5;28;43;01mfor\u001b[39;49;00m\u001b[43m \u001b[49m\u001b[43mv\u001b[49m\u001b[43m \u001b[49m\u001b[38;5;129;43;01min\u001b[39;49;00m\u001b[43m \u001b[49m\u001b[43mvalues\u001b[49m\u001b[43m]\u001b[49m)\n",
      "File \u001b[0;32m/opt/miniconda3/envs/eidu/lib/python3.11/site-packages/sklearn/utils/_encode.py:165\u001b[0m, in \u001b[0;36m<listcomp>\u001b[0;34m(.0)\u001b[0m\n\u001b[1;32m    164\u001b[0m table \u001b[38;5;241m=\u001b[39m _nandict({val: i \u001b[38;5;28;01mfor\u001b[39;00m i, val \u001b[38;5;129;01min\u001b[39;00m \u001b[38;5;28menumerate\u001b[39m(uniques)})\n\u001b[0;32m--> 165\u001b[0m \u001b[38;5;28;01mreturn\u001b[39;00m np\u001b[38;5;241m.\u001b[39marray([\u001b[43mtable\u001b[49m\u001b[43m[\u001b[49m\u001b[43mv\u001b[49m\u001b[43m]\u001b[49m \u001b[38;5;28;01mfor\u001b[39;00m v \u001b[38;5;129;01min\u001b[39;00m values])\n",
      "File \u001b[0;32m/opt/miniconda3/envs/eidu/lib/python3.11/site-packages/sklearn/utils/_encode.py:159\u001b[0m, in \u001b[0;36m_nandict.__missing__\u001b[0;34m(self, key)\u001b[0m\n\u001b[1;32m    158\u001b[0m     \u001b[38;5;28;01mreturn\u001b[39;00m \u001b[38;5;28mself\u001b[39m\u001b[38;5;241m.\u001b[39mnan_value\n\u001b[0;32m--> 159\u001b[0m \u001b[38;5;28;01mraise\u001b[39;00m \u001b[38;5;167;01mKeyError\u001b[39;00m(key)\n",
      "\u001b[0;31mKeyError\u001b[0m: 'c211ecb9c0f161385de70ec7cb018f12'",
      "\nDuring handling of the above exception, another exception occurred:\n",
      "\u001b[0;31mValueError\u001b[0m                                Traceback (most recent call last)",
      "Cell \u001b[0;32mIn[14], line 2\u001b[0m\n\u001b[1;32m      1\u001b[0m \u001b[38;5;66;03m# %%\u001b[39;00m\n\u001b[0;32m----> 2\u001b[0m (train_samples, train_labels), (val_samples, val_labels), (test_samples, test_labels) \u001b[38;5;241m=\u001b[39m \u001b[43m_prepare_tabnet_datasets\u001b[49m\u001b[43m(\u001b[49m\n\u001b[1;32m      3\u001b[0m \u001b[43m    \u001b[49m\u001b[43mtrain_activity_df\u001b[49m\u001b[43m,\u001b[49m\n\u001b[1;32m      4\u001b[0m \u001b[43m    \u001b[49m\u001b[43mval_activity_df\u001b[49m\u001b[43m,\u001b[49m\n\u001b[1;32m      5\u001b[0m \u001b[43m    \u001b[49m\u001b[43mtest_activity_df\u001b[49m\u001b[43m,\u001b[49m\n\u001b[1;32m      6\u001b[0m \u001b[43m    \u001b[49m\u001b[43mcategorical_columns\u001b[49m\u001b[38;5;241;43m=\u001b[39;49m\u001b[43mcategorical_columns\u001b[49m\u001b[43m,\u001b[49m\n\u001b[1;32m      7\u001b[0m \u001b[43m    \u001b[49m\u001b[43mnumerical_columns\u001b[49m\u001b[38;5;241;43m=\u001b[39;49m\u001b[43mnumerical_columns\u001b[49m\u001b[43m,\u001b[49m\n\u001b[1;32m      8\u001b[0m \u001b[43m    \u001b[49m\u001b[43mlabel_column\u001b[49m\u001b[38;5;241;43m=\u001b[39;49m\u001b[38;5;124;43m\"\u001b[39;49m\u001b[38;5;124;43mscore\u001b[39;49m\u001b[38;5;124;43m\"\u001b[39;49m\u001b[43m,\u001b[49m\n\u001b[1;32m      9\u001b[0m \u001b[43m)\u001b[49m\n\u001b[1;32m     11\u001b[0m unsupervised_model \u001b[38;5;241m=\u001b[39m TabNetPretrainer(\n\u001b[1;32m     12\u001b[0m     optimizer_fn\u001b[38;5;241m=\u001b[39mtorch\u001b[38;5;241m.\u001b[39moptim\u001b[38;5;241m.\u001b[39mAdam, optimizer_params\u001b[38;5;241m=\u001b[39m\u001b[38;5;28mdict\u001b[39m(lr\u001b[38;5;241m=\u001b[39m\u001b[38;5;241m2e-2\u001b[39m), mask_type\u001b[38;5;241m=\u001b[39m\u001b[38;5;124m\"\u001b[39m\u001b[38;5;124mentmax\u001b[39m\u001b[38;5;124m\"\u001b[39m, verbose\u001b[38;5;241m=\u001b[39m\u001b[38;5;241m0\u001b[39m\n\u001b[1;32m     13\u001b[0m )\n\u001b[1;32m     15\u001b[0m unsupervised_model\u001b[38;5;241m.\u001b[39mfit(\n\u001b[1;32m     16\u001b[0m     X_train\u001b[38;5;241m=\u001b[39mtrain_samples,\n\u001b[1;32m     17\u001b[0m     eval_name\u001b[38;5;241m=\u001b[39m[\u001b[38;5;124m\"\u001b[39m\u001b[38;5;124mtrain\u001b[39m\u001b[38;5;124m\"\u001b[39m],\n\u001b[0;32m   (...)\u001b[0m\n\u001b[1;32m     20\u001b[0m     pretraining_ratio\u001b[38;5;241m=\u001b[39m\u001b[38;5;241m0.8\u001b[39m,\n\u001b[1;32m     21\u001b[0m )\n",
      "Cell \u001b[0;32mIn[13], line 31\u001b[0m, in \u001b[0;36m_prepare_tabnet_datasets\u001b[0;34m(train_activity_df, val_activity_df, test_activity_df, categorical_columns, numerical_columns, label_column)\u001b[0m\n\u001b[1;32m     29\u001b[0m     train_feature_df[col] \u001b[38;5;241m=\u001b[39m label_encoder\u001b[38;5;241m.\u001b[39mtransform(train_feature_df[col]\u001b[38;5;241m.\u001b[39mvalues)\n\u001b[1;32m     30\u001b[0m     val_feature_df[col] \u001b[38;5;241m=\u001b[39m label_encoder\u001b[38;5;241m.\u001b[39mtransform(val_feature_df[col]\u001b[38;5;241m.\u001b[39mvalues)\n\u001b[0;32m---> 31\u001b[0m     test_feature_df[col] \u001b[38;5;241m=\u001b[39m \u001b[43mlabel_encoder\u001b[49m\u001b[38;5;241;43m.\u001b[39;49m\u001b[43mtransform\u001b[49m\u001b[43m(\u001b[49m\u001b[43mtest_feature_df\u001b[49m\u001b[43m[\u001b[49m\u001b[43mcol\u001b[49m\u001b[43m]\u001b[49m\u001b[38;5;241;43m.\u001b[39;49m\u001b[43mvalues\u001b[49m\u001b[43m)\u001b[49m\n\u001b[1;32m     32\u001b[0m     categorical_dims[col] \u001b[38;5;241m=\u001b[39m \u001b[38;5;28mlen\u001b[39m(label_encoder\u001b[38;5;241m.\u001b[39mclasses_)\n\u001b[1;32m     34\u001b[0m \u001b[38;5;28;01mfor\u001b[39;00m col \u001b[38;5;129;01min\u001b[39;00m numerical_columns:\n\u001b[1;32m     35\u001b[0m     \u001b[38;5;66;03m# NOTE: this should be looked at, as it might not be the best way to handle missing values\u001b[39;00m\n",
      "File \u001b[0;32m/opt/miniconda3/envs/eidu/lib/python3.11/site-packages/sklearn/preprocessing/_label.py:137\u001b[0m, in \u001b[0;36mLabelEncoder.transform\u001b[0;34m(self, y)\u001b[0m\n\u001b[1;32m    134\u001b[0m \u001b[38;5;28;01mif\u001b[39;00m _num_samples(y) \u001b[38;5;241m==\u001b[39m \u001b[38;5;241m0\u001b[39m:\n\u001b[1;32m    135\u001b[0m     \u001b[38;5;28;01mreturn\u001b[39;00m np\u001b[38;5;241m.\u001b[39marray([])\n\u001b[0;32m--> 137\u001b[0m \u001b[38;5;28;01mreturn\u001b[39;00m \u001b[43m_encode\u001b[49m\u001b[43m(\u001b[49m\u001b[43my\u001b[49m\u001b[43m,\u001b[49m\u001b[43m \u001b[49m\u001b[43muniques\u001b[49m\u001b[38;5;241;43m=\u001b[39;49m\u001b[38;5;28;43mself\u001b[39;49m\u001b[38;5;241;43m.\u001b[39;49m\u001b[43mclasses_\u001b[49m\u001b[43m)\u001b[49m\n",
      "File \u001b[0;32m/opt/miniconda3/envs/eidu/lib/python3.11/site-packages/sklearn/utils/_encode.py:227\u001b[0m, in \u001b[0;36m_encode\u001b[0;34m(values, uniques, check_unknown)\u001b[0m\n\u001b[1;32m    225\u001b[0m         \u001b[38;5;28;01mreturn\u001b[39;00m _map_to_integer(values, uniques)\n\u001b[1;32m    226\u001b[0m     \u001b[38;5;28;01mexcept\u001b[39;00m \u001b[38;5;167;01mKeyError\u001b[39;00m \u001b[38;5;28;01mas\u001b[39;00m e:\n\u001b[0;32m--> 227\u001b[0m         \u001b[38;5;28;01mraise\u001b[39;00m \u001b[38;5;167;01mValueError\u001b[39;00m(\u001b[38;5;124mf\u001b[39m\u001b[38;5;124m\"\u001b[39m\u001b[38;5;124my contains previously unseen labels: \u001b[39m\u001b[38;5;132;01m{\u001b[39;00m\u001b[38;5;28mstr\u001b[39m(e)\u001b[38;5;132;01m}\u001b[39;00m\u001b[38;5;124m\"\u001b[39m)\n\u001b[1;32m    228\u001b[0m \u001b[38;5;28;01melse\u001b[39;00m:\n\u001b[1;32m    229\u001b[0m     \u001b[38;5;28;01mif\u001b[39;00m check_unknown:\n",
      "\u001b[0;31mValueError\u001b[0m: y contains previously unseen labels: 'c211ecb9c0f161385de70ec7cb018f12'"
     ]
    }
   ],
   "source": [
    "# %%\n",
    "(train_samples, train_labels), (val_samples, val_labels), (test_samples, test_labels) = _prepare_tabnet_datasets(\n",
    "    train_activity_df,\n",
    "    val_activity_df,\n",
    "    test_activity_df,\n",
    "    categorical_columns=categorical_columns,\n",
    "    numerical_columns=numerical_columns,\n",
    "    label_column=\"score\",\n",
    ")\n",
    "\n",
    "unsupervised_model = TabNetPretrainer(\n",
    "    optimizer_fn=torch.optim.Adam, optimizer_params=dict(lr=2e-2), mask_type=\"entmax\", verbose=0\n",
    ")\n",
    "\n",
    "unsupervised_model.fit(\n",
    "    X_train=train_samples,\n",
    "    eval_name=[\"train\"],\n",
    "    eval_set=[train_samples],\n",
    "    max_epochs=1_000,\n",
    "    pretraining_ratio=0.8,\n",
    ")"
   ]
  },
  {
   "cell_type": "markdown",
   "metadata": {},
   "source": [
    " If loss is below 1, according to the paper, the unsupervised model performs better\n",
    "\n",
    " than predicting the mean. We use it if that's the case."
   ]
  },
  {
   "cell_type": "code",
   "execution_count": null,
   "metadata": {},
   "outputs": [],
   "source": [
    "# %%\n",
    "regressor = TabNetRegressor(verbose=0)\n",
    "_fit_tabnet(\n",
    "    tabnet_model=regressor,\n",
    "    train_samples=train_samples,\n",
    "    val_samples=val_samples,\n",
    "    train_labels=train_labels.reshape(-1, 1),\n",
    "    val_labels=val_labels.reshape(-1, 1),\n",
    "    eval_metric=\"rmse\",\n",
    "    # unsupervised_model=unsupervised_model,\n",
    ")"
   ]
  },
  {
   "cell_type": "code",
   "execution_count": null,
   "metadata": {},
   "outputs": [],
   "source": [
    "# %%\n",
    "train_pred_labels = regressor.predict(train_samples)\n",
    "train_rmse = root_mean_squared_error(train_labels, train_pred_labels)\n",
    "print(f\"Training set RMSE: {train_rmse:0.3f}\")\n",
    "\n",
    "val_pred_labels = regressor.predict(val_samples)\n",
    "val_rmse = root_mean_squared_error(val_labels, val_pred_labels)\n",
    "print(f\"Validation set RMSE: {val_rmse:0.3f}\")\n",
    "\n",
    "test_pred_labels = regressor.predict(test_samples)\n",
    "test_rmse = root_mean_squared_error(test_labels, test_pred_labels)\n",
    "print(f\"Testing set RMSE: {test_rmse:0.3f}\")"
   ]
  },
  {
   "cell_type": "markdown",
   "metadata": {},
   "source": [
    " TabNet is not fitting the data well. The training, validation, and testing RMSE are all high and close to each other.\n",
    "\n",
    " XGBoost beats TabNet by 2% in RMSE, so from the results we have, we would choose XGBoost."
   ]
  },
  {
   "cell_type": "markdown",
   "metadata": {},
   "source": [
    " ## Reframing as a classification problem\n",
    "\n",
    "\n",
    "\n",
    " Let's see if we can get better performance if we reframe the problem as a classification task.\n",
    "\n",
    " We divide the scores into bins that the model will predict for a given sample.\n",
    "\n",
    " If we can show that a model can predict a student's score as a range, then we can use this information more reliably.\n",
    "\n",
    "\n",
    "\n",
    " Let's check the score distribution to see how we can divide the scores into bins."
   ]
  },
  {
   "cell_type": "code",
   "execution_count": null,
   "metadata": {},
   "outputs": [],
   "source": [
    "# %%\n",
    "activity_df.score.hist(bins=30)"
   ]
  },
  {
   "cell_type": "markdown",
   "metadata": {},
   "source": [
    " Let's also check the distribution of the scores by dataset split."
   ]
  },
  {
   "cell_type": "code",
   "execution_count": null,
   "metadata": {},
   "outputs": [],
   "source": [
    "# %%\n",
    "val_activity_df.score.hist(bins=30)"
   ]
  },
  {
   "cell_type": "code",
   "execution_count": null,
   "metadata": {},
   "outputs": [],
   "source": [
    "# %%\n",
    "test_activity_df.score.hist(bins=30)"
   ]
  },
  {
   "cell_type": "markdown",
   "metadata": {},
   "source": [
    " Due to time constraints, I decided to \"balance\" the labels by equal-sized bins using `np.qcut`.\n",
    "\n",
    " This is a quick way to balance the labels according to their distribution.\n",
    "\n",
    " If we would only do a uniform range of `[0, 1]`, there will be a significant imbalance.\n",
    "\n",
    " If we see good performance of the classification model, then we can invest more time on correctly\n",
    "\n",
    " balancing the dataset through resampling techniques and specifying sample weights.\n",
    "\n",
    "\n",
    "\n",
    " We only use the training set to determine the bins and apply them to the validation and testing sets."
   ]
  },
  {
   "cell_type": "code",
   "execution_count": null,
   "metadata": {},
   "outputs": [],
   "source": [
    "# %%\n",
    "num_bins = 4\n",
    "\n",
    "score_bins, bins = pd.qcut(train_activity_df.score, num_bins, retbins=True, labels=False)\n",
    "bin_labels = [f\"{bin_min:0.2f}-{bin_max:0.2f}\" for bin_min, bin_max in zip(bins[:-1], bins[1:])]\n",
    "\n",
    "train_activity_df = train_activity_df.assign(score_bin=score_bins)\n",
    "print(\"Training label distribution:\")\n",
    "train_activity_df.score_bin.value_counts()"
   ]
  },
  {
   "cell_type": "code",
   "execution_count": null,
   "metadata": {},
   "outputs": [],
   "source": [
    "# %%\n",
    "# Apply the bins to the validation and testing sets\n",
    "val_activity_df = val_activity_df.assign(\n",
    "    score_bin=pd.cut(val_activity_df.score, bins=bins, include_lowest=True, labels=False)\n",
    ")\n",
    "print(\"Validation label distribution:\")\n",
    "val_activity_df.score_bin.value_counts()"
   ]
  },
  {
   "cell_type": "code",
   "execution_count": null,
   "metadata": {},
   "outputs": [],
   "source": [
    "# %%\n",
    "test_activity_df = test_activity_df.assign(\n",
    "    score_bin=pd.cut(test_activity_df.score, bins=bins, include_lowest=True, labels=False)\n",
    ")\n",
    "print(\"Testing label distribution:\")\n",
    "test_activity_df.score_bin.value_counts()"
   ]
  },
  {
   "cell_type": "markdown",
   "metadata": {},
   "source": [
    " The validation and testing set end up having different distributions of the labels.\n",
    "\n",
    " But we can tolerate this for now, as long as they correctly evaluate the model's performance.\n",
    "\n",
    "\n",
    "\n",
    " Choosing the parameter grid took some tuning because the model was overfitting strongly.\n",
    "\n",
    " I restricted `max_depth` and `n_estimators` and let it explore other hyperparameters."
   ]
  },
  {
   "cell_type": "code",
   "execution_count": null,
   "metadata": {},
   "outputs": [],
   "source": [
    "# %%\n",
    "\n",
    "(train_feature_df, train_labels), (val_feature_df, val_labels), (test_feature_df, test_labels) = _prepare_datasets(\n",
    "    [train_activity_df, val_activity_df, test_activity_df],\n",
    "    categorical_columns,\n",
    "    numerical_columns,\n",
    "    label_column=\"score_bin\",\n",
    ")\n",
    "classifier = xgb.XGBClassifier(enable_categorical=True, validate_parameters=True)\n",
    "param_grid = {\n",
    "    \"max_depth\": [1, 2],  # low values prevent overfitting\n",
    "    \"n_estimators\": [10, 50],  # low values prevent overfitting\n",
    "    \"subsample\": [0.8],\n",
    "    \"min_child_weight\": [0, 1, 2, 5, 10, 20],  # high values prevent overfitting\n",
    "    \"gamma\": [0, 0.2, 1, 2, 5, 10],  # high values prevent overfitting\n",
    "    \"learning_rate\": [0.05, 0.1],\n",
    "    \"max_bin\": [128],\n",
    "    \"max_cat_to_onehot\": [5],\n",
    "}\n",
    "param_combinations = math.prod([len(param) for param in param_grid.values()])\n",
    "print(f\"Number of combinations: {param_combinations}\")\n",
    "print(f\"Estimated time: {param_combinations*2/60} minutes\")\n",
    "\n",
    "clf = _run_grid_search(\n",
    "    xbg_model=classifier,\n",
    "    param_grid=param_grid,\n",
    "    train_feature_df=train_feature_df,\n",
    "    val_feature_df=val_feature_df,\n",
    "    train_labels=train_labels,\n",
    "    val_labels=val_labels,\n",
    "    scoring=\"f1_weighted\",\n",
    ")\n",
    "print(\"best_params:\", clf.best_params_)\n",
    "classifier = clf.best_estimator_\n",
    "\n",
    "xgb.plot_importance(\n",
    "    clf.best_estimator_.get_booster(),\n",
    "    max_num_features=10,\n",
    "    importance_type=\"gain\",\n",
    "    xlabel=\"Feature Gain\",\n",
    ")"
   ]
  },
  {
   "cell_type": "code",
   "execution_count": null,
   "metadata": {},
   "outputs": [],
   "source": [
    "# %%\n",
    "cv_result_df = pd.DataFrame(clf.cv_results_)\n",
    "param_columns = [\n",
    "    column for column in cv_result_df.columns if column.startswith(\"param_\") and column != \"param_tree_method\"\n",
    "]\n",
    "score_columns = [\"mean_train_score\", \"mean_test_score\"]\n",
    "cv_result_df[[*param_columns, *score_columns]].corr()[score_columns]"
   ]
  },
  {
   "cell_type": "code",
   "execution_count": null,
   "metadata": {},
   "outputs": [],
   "source": [
    "# %%\n",
    "def _print_classification_metrics(pred_labels, true_labels, label_names, split_name):\n",
    "    precision = precision_score(true_labels, pred_labels, average=None)\n",
    "    recall = recall_score(true_labels, pred_labels, average=None)\n",
    "    f1_weighted = f1_score(true_labels, pred_labels, average=\"weighted\")\n",
    "\n",
    "    label_names = np.array(label_names)[np.unique(true_labels)]\n",
    "    print(f\"{split_name} precision for each label:\")\n",
    "    print(pd.DataFrame(precision, index=label_names, columns=[\"precision\"]))\n",
    "    print(f\"{split_name} recall for each label:\")\n",
    "    print(pd.DataFrame(recall, index=label_names, columns=[\"recall\"]))\n",
    "    print(f\"{split_name} f1-score weighted:\", f1_weighted)\n",
    "    print()\n",
    "\n",
    "\n",
    "for feature_df, true_labels, name in [\n",
    "    (train_feature_df, train_labels, \"train\"),\n",
    "    (val_feature_df, val_labels, \"val\"),\n",
    "    (test_feature_df, test_labels, \"test\"),\n",
    "]:\n",
    "    pred_labels = classifier.predict(feature_df)\n",
    "    _print_classification_metrics(pred_labels, true_labels, label_names=bin_labels, split_name=name)"
   ]
  },
  {
   "cell_type": "markdown",
   "metadata": {},
   "source": [
    " Train and validation RMSE are close, which means we are not overfitting but, similar to the regression model,\n",
    "\n",
    " classification performance is not great. Let's see if any of the learning units has particular good performance."
   ]
  },
  {
   "cell_type": "markdown",
   "metadata": {},
   "source": [
    " ### TabNet as a classifier\n",
    "\n",
    " unsupervised_model=unsupervised_model,"
   ]
  },
  {
   "cell_type": "code",
   "execution_count": null,
   "metadata": {},
   "outputs": [],
   "source": [
    "# %%\n",
    "\n",
    "for feature_df, true_labels, name in [\n",
    "    (train_samples, train_labels, \"train\"),\n",
    "    (val_samples, val_labels, \"val\"),\n",
    "    (test_samples, test_labels, \"test\"),\n",
    "]:\n",
    "    pred_labels = classifier.predict(feature_df)\n",
    "    _print_classification_metrics(pred_labels, true_labels, label_names=bin_labels, split_name=name)"
   ]
  },
  {
   "cell_type": "markdown",
   "metadata": {},
   "source": [
    " TabNet as a classifier still does not beat XGBoost. Authors of the model claim it consistenly outperforms it.\n",
    "\n",
    " There was not enough time to tune the model further, but it's possible that with more time, TabNet could outperform XGBoost."
   ]
  },
  {
   "cell_type": "code",
   "execution_count": null,
   "metadata": {},
   "outputs": [],
   "source": [
    "# %%"
   ]
  }
 ],
 "metadata": {
  "kernelspec": {
   "display_name": "eidu",
   "language": "python",
   "name": "python3"
  },
  "language_info": {
   "codemirror_mode": {
    "name": "ipython",
    "version": 3
   },
   "file_extension": ".py",
   "mimetype": "text/x-python",
   "name": "python",
   "nbconvert_exporter": "python",
   "pygments_lexer": "ipython3",
   "version": "3.11.8"
  }
 },
 "nbformat": 4,
 "nbformat_minor": 2
}
